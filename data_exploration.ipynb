{
 "metadata": {
  "language_info": {
   "codemirror_mode": {
    "name": "ipython",
    "version": 3
   },
   "file_extension": ".py",
   "mimetype": "text/x-python",
   "name": "python",
   "nbconvert_exporter": "python",
   "pygments_lexer": "ipython3",
   "version": "3.8.8-final"
  },
  "orig_nbformat": 2,
  "kernelspec": {
   "name": "python3",
   "display_name": "Python 3.8.8 64-bit ('Machine_Learning': conda)",
   "metadata": {
    "interpreter": {
     "hash": "a57270f445193dc7b93c5e8fb368abc4e2a61db7494075820c052bd7deb5e2b8"
    }
   }
  }
 },
 "nbformat": 4,
 "nbformat_minor": 2,
 "cells": [
  {
   "cell_type": "code",
   "execution_count": 201,
   "metadata": {},
   "outputs": [],
   "source": [
    "import pandas as pd\n",
    "import numpy as np\n",
    "import spacy\n",
    "import random"
   ]
  },
  {
   "cell_type": "code",
   "execution_count": 202,
   "metadata": {},
   "outputs": [],
   "source": [
    "comments = pd.read_csv(\"kaggle_RC_2019-05.csv\")\n",
    "comments = comments[:1000]"
   ]
  },
  {
   "cell_type": "code",
   "execution_count": 203,
   "metadata": {},
   "outputs": [
    {
     "output_type": "stream",
     "name": "stdout",
     "text": [
      "AskReddit              167\nAmItheAsshole           65\ngameofthrones           54\npolitics                54\nfreefolk                47\nworldnews               35\nnews                    31\nnba                     30\nteenagers               30\ngaming                  30\nasoiaf                  27\ndankmemes               26\nmemes                   26\nmarvelstudios           24\nMarket76                24\nfunny                   23\nChapoTrapHouse          23\nSquaredCircle           22\nThe_Donald              22\nMortalKombat            21\nunpopularopinion        16\naww                     15\nhockey                  14\nnfl                     14\nleagueoflegends         13\ngonewild                12\nvideos                  12\nmovies                  12\npics                    12\nFortNiteBR              12\ntrashy                  11\ntodayilearned           11\nShowerthoughts          11\nwallstreetbets          10\nAnimemes                10\nRoastMe                  8\nrelationship_advice      8\nsoccer                   8\napexlegends              6\nPikabu                   4\nName: subreddit, dtype: int64\n"
     ]
    }
   ],
   "source": [
    "print(comments.subreddit.value_counts())"
   ]
  },
  {
   "cell_type": "code",
   "execution_count": null,
   "metadata": {},
   "outputs": [],
   "source": []
  }
 ]
}